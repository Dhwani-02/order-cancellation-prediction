{
 "cells": [
  {
   "cell_type": "code",
   "execution_count": 19,
   "id": "2c6b64e3-a1b7-4b43-b127-a4575d899b87",
   "metadata": {},
   "outputs": [
    {
     "name": "stdout",
     "output_type": "stream",
     "text": [
      "Prediction: Cancelled\n",
      "Cancellation Probability: 0.72\n"
     ]
    }
   ],
   "source": [
    "import pickle\n",
    "import pandas as pd\n",
    "\n",
    "# Load the saved pipeline\n",
    "with open('order_cancellation_model.pkl', 'rb') as f:\n",
    "    loaded_model = pickle.load(f)\n",
    "\n",
    "# Example input for prediction (dictionary or DataFrame with correct column names)\n",
    "sample_input = pd.DataFrame([{\n",
    "    'Age Group': 'Older',\n",
    "    'Rating Category': 'Neutral',\n",
    "    'Quantity': 2,\n",
    "    'Total Price': 4999,\n",
    "    'Add-on Total': 250,\n",
    "    'Gender': 'Male',\n",
    "    'Loyalty Member': 'No',\n",
    "    'Product Type': 'Smartphone',\n",
    "    'Shipping Type': 'Standard',\n",
    "    'Payment Method': 'Credit Card',\n",
    "    'Purchased Month': 12,\n",
    "    'Purchased Weekday': 4,\n",
    "    'Purchased Year': 2024\n",
    "}])\n",
    "\n",
    "# Predict cancellation (1 = Cancelled, 0 = Completed)\n",
    "prediction = loaded_model.predict(sample_input)\n",
    "prediction_proba = loaded_model.predict_proba(sample_input)\n",
    "\n",
    "print(\"Prediction:\", \"Cancelled\" if prediction[0] == 1 else \"Completed\")\n",
    "print(\"Cancellation Probability:\", prediction_proba[0][1])\n"
   ]
  },
  {
   "cell_type": "code",
   "execution_count": 21,
   "id": "54357da3-0f40-470c-851e-d246db48e88a",
   "metadata": {},
   "outputs": [
    {
     "name": "stdout",
     "output_type": "stream",
     "text": [
      "Prediction: Completed\n",
      "Completion Probability: 0.64\n"
     ]
    }
   ],
   "source": [
    "sample_input = pd.DataFrame([{\n",
    "    'Age Group': 'Young',\n",
    "    'Rating Category': 'Happy',\n",
    "    'Quantity': 2,\n",
    "    'Total Price': 30000,\n",
    "    'Add-on Total': 1000,\n",
    "    'Gender': 'Female',\n",
    "    'Loyalty Member': 'Yes',\n",
    "    'Product Type': 'Laptop',\n",
    "    'Shipping Type': 'Express',\n",
    "    'Payment Method': 'Debit Card',\n",
    "    'Purchased Month': 6,\n",
    "    'Purchased Weekday': 2,\n",
    "    'Purchased Year': 2023\n",
    "}])\n",
    "# Prediction\n",
    "prediction = loaded_model.predict(sample_input)[0]\n",
    "probability = loaded_model.predict_proba(sample_input)[0][1]  # Prob. for Completed (if 1 = Completed)\n",
    "\n",
    "print(\"Prediction:\", \"Completed\" if prediction == 1 else \"Cancelled\")\n",
    "print(\"Completion Probability:\", round(probability, 2))\n"
   ]
  },
  {
   "cell_type": "markdown",
   "id": "e3b46cd7-680e-4a66-9796-1d300918353c",
   "metadata": {},
   "source": [
    "## Model Details\n",
    "Model Used: RandomForestClassifier (class_weight='balanced')\n",
    "\n",
    "Preprocessing: Includes ordinal encoding, one-hot encoding, and custom weekday mapping.\n",
    "\n",
    "Training Accuracy: ~64.5%\n",
    "\n",
    "Precision-Recall Tradeoff: Focused on identifying cancelled orders due to business impact.\n",
    "\n",
    "## Key Patterns Identified for Cancellation\n",
    "Based on your exploratory data analysis:\n",
    "\n",
    "High Cancellation Is Likely When…\n",
    "* 🚚 Shipping Type is Standard\n",
    "* 📱 Product Type is Mobile\n",
    "* 🧓 Age Group is Older\n",
    "* 💳 Payment Method is Credit Card\n",
    "* 😐 Rating Category is Low"
   ]
  }
 ],
 "metadata": {
  "kernelspec": {
   "display_name": "Python 3 (ipykernel)",
   "language": "python",
   "name": "python3"
  },
  "language_info": {
   "codemirror_mode": {
    "name": "ipython",
    "version": 3
   },
   "file_extension": ".py",
   "mimetype": "text/x-python",
   "name": "python",
   "nbconvert_exporter": "python",
   "pygments_lexer": "ipython3",
   "version": "3.12.4"
  }
 },
 "nbformat": 4,
 "nbformat_minor": 5
}
